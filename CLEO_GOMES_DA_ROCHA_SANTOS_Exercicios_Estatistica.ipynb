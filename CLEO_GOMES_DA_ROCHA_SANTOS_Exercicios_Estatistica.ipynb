{
  "nbformat": 4,
  "nbformat_minor": 0,
  "metadata": {
    "colab": {
      "provenance": [],
      "mount_file_id": "1I9KgqMTAZ_jGw3NiRG5Ah8St449GIXBU",
      "authorship_tag": "ABX9TyPbQk5Q/KjgnfvvBjgyRFAQ",
      "include_colab_link": true
    },
    "kernelspec": {
      "name": "python3",
      "display_name": "Python 3"
    },
    "language_info": {
      "name": "python"
    }
  },
  "cells": [
    {
      "cell_type": "markdown",
      "metadata": {
        "id": "view-in-github",
        "colab_type": "text"
      },
      "source": [
        "<a href=\"https://colab.research.google.com/github/cleogrs/analytics/blob/main/CLEO_GOMES_DA_ROCHA_SANTOS_Exercicios_Estatistica.ipynb\" target=\"_parent\"><img src=\"https://colab.research.google.com/assets/colab-badge.svg\" alt=\"Open In Colab\"/></a>"
      ]
    },
    {
      "cell_type": "code",
      "execution_count": null,
      "metadata": {
        "id": "NXEYK-6FwZNY",
        "colab": {
          "base_uri": "https://localhost:8080/"
        },
        "cellView": "form",
        "outputId": "f05a6d2c-4a5c-43a8-d97d-da903a8b2b35"
      },
      "outputs": [
        {
          "output_type": "stream",
          "name": "stdout",
          "text": [
            "<class 'pandas.core.frame.DataFrame'>\n",
            "RangeIndex: 1000 entries, 0 to 999\n",
            "Data columns (total 7 columns):\n",
            " #   Column                           Non-Null Count  Dtype  \n",
            "---  ------                           --------------  -----  \n",
            " 0   Unnamed: 0                       1000 non-null   int64  \n",
            " 1   estado                           1000 non-null   object \n",
            " 2   idade                            1000 non-null   int64  \n",
            " 3   escolaridade                     1000 non-null   object \n",
            " 4   nível de proficiência em inglês  1000 non-null   object \n",
            " 5   renda                            1000 non-null   float64\n",
            " 6   sexo                             1000 non-null   object \n",
            "dtypes: float64(1), int64(2), object(4)\n",
            "memory usage: 54.8+ KB\n"
          ]
        }
      ],
      "source": [
        "# @title Importando dataframe\n",
        "\n",
        "import pandas as pd\n",
        "import numpy as np\n",
        "import seaborn as sns\n",
        "import matplotlib.pyplot as plt\n",
        "import matplotlib.cm as cm\n",
        "import scipy.stats as stats\n",
        "from scipy.stats import norm\n",
        "from scipy.stats import binom\n",
        "from scipy.special import comb\n",
        "!pip install pydataset --quiet\n",
        "from pydataset import data\n",
        "df = pd.read_csv('/content/drive/MyDrive/populacao_brasileira.csv')\n",
        "df.info()"
      ]
    },
    {
      "cell_type": "code",
      "source": [
        "# @title 1. Considere pessoas fluentes em inglês, qual a probabilidade complementar? Ou seja, qual a probabilidade de escolhermos uma pessoa aleatória e ela não ser fluente em inglês. Considere fluente quem tem o nível avançado.\n",
        "\n",
        "#frequencia absoluta dos níveis de proficiência em inglês\n",
        "ingles = (pd.get_dummies(df['nível de proficiência em inglês'])).sum()\n",
        "\n",
        "#probabilidade de não ser fluente em inglês = 1 - probabilidade de ser fluente\n",
        "pb_naofluente = 1 - (ingles['Avançado']/len(df))\n",
        "\n",
        "\n",
        "print('Probabilidade de escolher uma pessoa aleatória e ela não ser fluente em inglês: ', pb_naofluente)"
      ],
      "metadata": {
        "colab": {
          "base_uri": "https://localhost:8080/"
        },
        "id": "fsoOe_g-oxg3",
        "outputId": "dfcab1ca-1f0e-40c8-8160-0c78a9fa1b5d",
        "cellView": "form"
      },
      "execution_count": null,
      "outputs": [
        {
          "output_type": "stream",
          "name": "stdout",
          "text": [
            "Probabilidade de escolher uma pessoa aleatória e ela não ser fluente em inglês:  0.656\n"
          ]
        }
      ]
    },
    {
      "cell_type": "code",
      "source": [
        "# @title 2. Se uma pessoa escolhida aleatoriamente for de Alagoas ou do Pará, qual é a probabilidade de ela ter uma renda superior a 5 mil reais?\n",
        "\n",
        "#frequencia absoluta dos estados\n",
        "estados = (pd.get_dummies(df['estado'])).sum()\n",
        "\n",
        "#probabilidade de ser do estado de alagoas ou pará\n",
        "pb_alpa = (estados['PA'] + estados['AL']) / len(df)\n",
        "\n",
        "#frequencia absoluta dos que tem renda superior a 5 mil\n",
        "renda5k = (df['renda'] > 5000).sum()\n",
        "\n",
        "#probabilidade de ter renda superior a 5 mil\n",
        "pb_5k = renda5k / len(df)\n",
        "\n",
        "#probabilidade de ter renda superior a 5 mil\n",
        "pb_alpa_5k = (pb_5k * pb_alpa) / pb_alpa\n",
        "\n",
        "print('Probabilidade de escolher uma pessoa aleatória e ela for de Alagoas ou do Pará e ter uma renda superior a 5 mil: ', pb_alpa_5k)"
      ],
      "metadata": {
        "id": "qNVx7u3eybFQ",
        "colab": {
          "base_uri": "https://localhost:8080/"
        },
        "outputId": "c367b33c-fd78-442d-e7b4-c8964ca477d9",
        "cellView": "form"
      },
      "execution_count": null,
      "outputs": [
        {
          "output_type": "stream",
          "name": "stdout",
          "text": [
            "Probabilidade de escolher uma pessoa aleatória e ela for de Alagoas ou do Pará e ter uma renda superior a 5 mil:  0.032\n"
          ]
        }
      ]
    },
    {
      "cell_type": "code",
      "source": [
        "# @title 3. Descubra a probabilidade de uma pessoa ter ensino superior completo no estado do Amazonas. Qual a probabilidade da quinta pessoa que você conversar, que é amazonense, ter ensino superior completo?\n",
        "\n",
        "#frequencia absoluta do estado do amazonas\n",
        "am = df[df['estado'] == 'AM']\n",
        "\n",
        "#frequencia absoluta dos níveis de escolaridade\n",
        "am_escolaridade = (pd.get_dummies(am['escolaridade'])).sum()\n",
        "\n",
        "# probabilidade de se ter ensino superior no amazonas\n",
        "pb_am_superior = (am_escolaridade['Superior'] + am_escolaridade['Pós-graduação'])/len(am)\n",
        "\n",
        "# probabilidade de somente a quinta pessoa ter ensino superior\n",
        "pb_am_superior5 = pb_am_superior * ((1 - pb_am_superior) ** 4)\n",
        "\n",
        "\n",
        "print('Probabilidade da quinta pessoa amazonense ter ensino superior: ', pb_am_superior5)"
      ],
      "metadata": {
        "id": "2rD_0T4Fjj-0",
        "colab": {
          "base_uri": "https://localhost:8080/"
        },
        "outputId": "5e381934-7085-4043-a8b0-a4643b2aa1b2",
        "cellView": "form"
      },
      "execution_count": null,
      "outputs": [
        {
          "output_type": "stream",
          "name": "stdout",
          "text": [
            "Probabilidade da quinta pessoa amazonense ter ensino superior:  0.022135890467222828\n"
          ]
        }
      ]
    },
    {
      "cell_type": "code",
      "source": [
        "# @title 4. Considerando a renda das pessoas do nosso conjunto, podemos dizer que a renda de uma pessoa brasileira está na sua maioria em que faixa (faça faixa de 1.500 reais)? Qual é a sua função densidade de probabilidade?\n",
        "\n",
        "#definindo intervalo de renda de a cada 1500 reais\n",
        "intervalos_renda = np.arange(0, df['renda'].max() + 1500, 1500)\n",
        "df['faixa de renda'] = pd.cut(df['renda'], bins=intervalos_renda)\n",
        "freq_renda = df['faixa de renda'].value_counts()\n",
        "\n",
        "# Calculando a faixa de renda com maior densidade\n",
        "maior_faixa = (freq_renda / len(df)).idxmax()\n",
        "\n",
        "print('A renda de uma pessoa brasileira está em sua maioria na faixa de ', maior_faixa, ' reais.')"
      ],
      "metadata": {
        "colab": {
          "base_uri": "https://localhost:8080/"
        },
        "id": "PzlW6HpTj2QM",
        "outputId": "a866a29f-d83b-499c-be00-f77b0a34caf1",
        "cellView": "form"
      },
      "execution_count": null,
      "outputs": [
        {
          "output_type": "stream",
          "name": "stdout",
          "text": [
            "A renda de uma pessoa brasileira está em sua maioria na faixa de  (3000.0, 4500.0]  reais.\n"
          ]
        }
      ]
    },
    {
      "cell_type": "code",
      "source": [
        "# @title 5. Calcule a média e a variância da renda da amostra. Depois faça a distribuição normal, inclua o gráfico.\n",
        "\n",
        "#média de renda\n",
        "media_renda = df['renda'].sum() / len(df)\n",
        "\n",
        "#soma dos quadrados das diferenças\n",
        "sumdif = sum((x - media_renda) ** 2 for x in df['renda'])\n",
        "\n",
        "#variância e desvio padrão de renda\n",
        "var_renda = sumdif / (len(df) - 1)\n",
        "dp_renda = var_renda ** 0.5\n",
        "\n",
        "#função de densidade de probabilidade\n",
        "#x = np.linspace(0, df['renda'].max(), 100)\n",
        "#pdf_renda = norm.pdf(x, loc=media_renda, scale=dp_renda)\n",
        "#pdf_renda\n",
        "\n",
        "print('Média:', media_renda, '\\nVariância:', var_renda, '\\n')\n",
        "\n",
        "#plotando o gráfico de distribuição normal\n",
        "x = np.linspace(media_renda - 3*dp_renda, media_renda + 3*dp_renda, 100)\n",
        "y = norm.pdf(x, media_renda, dp_renda)\n",
        "\n",
        "\n",
        "plt.plot(x, y, 'r-', label='Distribuição Normal')\n",
        "plt.hist(df['renda'], bins=intervalos_renda, density=True, alpha=0.5, color='pink', label='Histograma de renda')\n",
        "plt.xlabel('Renda')\n",
        "plt.ylabel('Densidade de Probabilidade')\n",
        "plt.title('Distribuição Normal e Histograma da Renda')\n",
        "plt.legend()\n",
        "plt.grid(True)\n",
        "plt.show()"
      ],
      "metadata": {
        "colab": {
          "base_uri": "https://localhost:8080/",
          "height": 524
        },
        "id": "ulY5AF8AkaGb",
        "outputId": "4fc65baa-da1a-4ab3-cb02-b6d5d592e8b4",
        "cellView": "form"
      },
      "execution_count": null,
      "outputs": [
        {
          "output_type": "stream",
          "name": "stdout",
          "text": [
            "Média: 3082.5371800000003 \n",
            "Variância: 993156.2281676169 \n",
            "\n"
          ]
        },
        {
          "output_type": "display_data",
          "data": {
            "text/plain": [
              "<Figure size 640x480 with 1 Axes>"
            ],
            "image/png": "[encoded data removed]"
          },
          "metadata": {}
        }
      ]
    },
    {
      "cell_type": "code",
      "source": [
        "# @title 6. Primeiro considere a probabilidade encontrada no nosso conjunto de pessoas com escolaridade de pós-graduação. Considerando a amostra de população brasileira com 1 milhão de habitantes, qual a probabilidade de encontrarmos 243 mil pessoas com pós-graduação?\n",
        "\n",
        "#frequencia absoluta das escolaridades\n",
        "escolaridade = (pd.get_dummies(df['escolaridade'])).sum()\n",
        "\n",
        "#probabilidade de pós graduação\n",
        "pb_pos = escolaridade['Pós-graduação'] / len(df)\n",
        "\n",
        "n = 1000000  # Tamanho população\n",
        "k = 243000   # Número de pessoas com pós-graduação desejadas\n",
        "\n",
        "# Calcular a probabilidade usando a distribuição binomial\n",
        "binomial_pos = binom.pmf(k, n, pb_pos)\n",
        "\n",
        "print('Probabilidade de de encontrar 243 mil pessoas com pós: ', binomial_pos)"
      ],
      "metadata": {
        "id": "jbjLp96EkhCS",
        "colab": {
          "base_uri": "https://localhost:8080/"
        },
        "outputId": "d8d8c56a-cdf4-4dc5-f4f8-966abedfc494",
        "cellView": "form"
      },
      "execution_count": null,
      "outputs": [
        {
          "output_type": "stream",
          "name": "stdout",
          "text": [
            "Probabilidade de de encontrar 243 mil pessoas com pós:  1.1104854289794913e-119\n"
          ]
        }
      ]
    },
    {
      "cell_type": "code",
      "source": [
        "# @title 7. Somando as densidades nós temos a função de densidade acumulada. Considerando a coluna ‘Escolaridade’ faça a função de densidade acumulada discreta para cada nível de escolaridade.\n",
        "\n",
        "#densidade acumulada da escolaridade\n",
        "densidade = escolaridade / escolaridade.sum()\n",
        "densidade.cumsum()"
      ],
      "metadata": {
        "id": "DC_fLCkokw2K",
        "colab": {
          "base_uri": "https://localhost:8080/"
        },
        "outputId": "a01ba415-eb8d-40b0-c4be-6dc1dbf5643a",
        "cellView": "form"
      },
      "execution_count": null,
      "outputs": [
        {
          "output_type": "execute_result",
          "data": {
            "text/plain": [
              "Fundamental      0.266\n",
              "Médio            0.504\n",
              "Pós-graduação    0.757\n",
              "Superior         1.000\n",
              "dtype: float64"
            ]
          },
          "metadata": {},
          "execution_count": 23
        }
      ]
    },
    {
      "cell_type": "code",
      "source": [
        "# @title 8. Qual a margem de erro amostral da proporção populacional considerando a proporção de pessoas com nível de inglês intermediário?\n",
        "\n",
        "#probabilidade de ter inglês intermediário\n",
        "pb_intermediario = ingles['Intermediário'] / len(df)\n",
        "\n",
        "#margem de erro amostral\n",
        "z = norm.ppf((1 + 0.95) / 2)\n",
        "margem_ing_inter = z * np.sqrt((pb_intermediario * (1 - pb_intermediario)) / len(df))\n",
        "\n",
        "print('Margem de erro amostral da proporção de pessoas com inglês intermediário', margem_ing_inter)"
      ],
      "metadata": {
        "id": "UI8NkUxakzIT",
        "colab": {
          "base_uri": "https://localhost:8080/"
        },
        "outputId": "186cc44a-bf3c-417c-9624-f49da5ab6bc3",
        "cellView": "form"
      },
      "execution_count": null,
      "outputs": [
        {
          "output_type": "stream",
          "name": "stdout",
          "text": [
            "Margem de erro amostral da proporção de pessoas com inglês intermediário 0.029121068108804226\n"
          ]
        }
      ]
    },
    {
      "cell_type": "code",
      "source": [
        "# @title 9. Calcule a renda da população. Qual a probabilidade de encontrar 60 pessoas com uma renda mil reais superior à média?\n",
        "\n",
        "#definindo o corte de renda mil reais superior a média\n",
        "renda_corte = (df['renda'].mean()) + 1000\n",
        "\n",
        "# frequência absoluta de pessoas com renda mil reais superior a média\n",
        "freq_renda_cut = len(df.loc[df['renda'] > renda_corte])\n",
        "\n",
        "#probabilidade de encontrar uma pessoa com renda mil reais superior a média\n",
        "pb_renda_cut = 1 - stats.norm.cdf(renda_corte, loc=media_renda, scale=dp_renda)\n",
        "\n",
        "#probabilidade de encontrar 60 pessoas com renda mil reais superior a média\n",
        "binomial_renda = binom.pmf(60, len(df), pb_renda_cut)\n",
        "\n",
        "print('Probabilidade de encontrar 60 pessoas com renda mil reais superior a média: ', binomial_renda)"
      ],
      "metadata": {
        "id": "de64K8d1k1k7",
        "colab": {
          "base_uri": "https://localhost:8080/"
        },
        "outputId": "b7d1a75d-a29b-4432-f9af-e5b1e2a1f821",
        "cellView": "form"
      },
      "execution_count": null,
      "outputs": [
        {
          "output_type": "stream",
          "name": "stdout",
          "text": [
            "Probabilidade de encontrar 60 pessoas com renda mil reais superior a média:  1.1597038406783114e-21\n"
          ]
        }
      ]
    },
    {
      "cell_type": "code",
      "source": [
        "# @title 10. Qual a probabilidade de escolhermos alguém do Sudeste que seja homem, com ensino fundamental e com renda maior que 2 mil reais por mês?\n",
        "\n",
        "#probabilidade de selecionar alguém do sudeste\n",
        "pb_sudeste = (estados['RJ'] + estados['SP'] + estados['ES'] + estados['MG']).sum() / len(df)\n",
        "\n",
        "#probabilidade de selecionar homem\n",
        "sexo = pd.get_dummies(df['sexo'])\n",
        "pb_homem = (sexo['M'].sum()) / len(df)\n",
        "\n",
        "#probabilidade de selecionar alguém do ensino fundamental\n",
        "pb_fundamental = escolaridade['Fundamental'] / len(df)\n",
        "\n",
        "#probabilidade de selecionar alguem com renda maior que 2 mil\n",
        "freq_renda_mais2k = len(df.loc[df['renda'] > 2000])\n",
        "pb_renda_mais2k = freq_renda_mais2k / len(df)\n",
        "\n",
        "#probabilidade de escolhermos alguém do Sudeste que seja homem, com ensino fundamental e com renda maior que 2 mil reais por mês\n",
        "pb_final = pb_sudeste * pb_homem * pb_fundamental * pb_renda_mais2k\n",
        "\n",
        "print('Probabilidade de escolhermos alguém do Sudeste que seja homem, com ensino fundamental e com renda maior que 2 mil reais por mês: ', pb_final)"
      ],
      "metadata": {
        "id": "ucVxnVtOk3Rc",
        "colab": {
          "base_uri": "https://localhost:8080/"
        },
        "outputId": "de43bfe0-37e9-4b24-a483-54826eaa444e",
        "cellView": "form"
      },
      "execution_count": null,
      "outputs": [
        {
          "output_type": "stream",
          "name": "stdout",
          "text": [
            "Probabilidade de escolhermos alguém do Sudeste que seja homem, com ensino fundamental e com renda maior que 2 mil reais por mês:  0.017414252856\n"
          ]
        }
      ]
    }
  ]
}