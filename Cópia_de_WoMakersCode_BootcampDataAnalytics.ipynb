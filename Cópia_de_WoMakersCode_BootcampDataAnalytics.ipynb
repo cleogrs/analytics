{
  "nbformat": 4,
  "nbformat_minor": 0,
  "metadata": {
    "colab": {
      "provenance": [],
      "include_colab_link": true
    },
    "kernelspec": {
      "name": "python3",
      "display_name": "Python 3"
    },
    "language_info": {
      "name": "python"
    }
  },
  "cells": [
    {
      "cell_type": "markdown",
      "metadata": {
        "id": "view-in-github",
        "colab_type": "text"
      },
      "source": [
        "<a href=\"https://colab.research.google.com/github/cleogrs/analytics/blob/main/C%C3%B3pia_de_WoMakersCode_BootcampDataAnalytics.ipynb\" target=\"_parent\"><img src=\"https://colab.research.google.com/assets/colab-badge.svg\" alt=\"Open In Colab\"/></a>"
      ]
    },
    {
      "cell_type": "markdown",
      "source": [
        "1 ) Para determinar se um candidato está qualificado para uma vaga de emprego, são aplicados dois critérios:\n",
        "\n",
        "a) O candidato deve ter uma presença igual ou superior a 60% em um treinamento obrigatório.\n",
        "\n",
        "b) O candidato deve ter uma média de desempenho igual ou superior a 7 em uma série de testes.\n",
        "\n",
        "Para auxiliar na avaliação dos candidatos, você deve criar uma função que recebe uma lista de dicionários contendo o nome do candidato, a média de desempenho e a quantidade de horas de ausência do treinamento. Com esses dados, a função deve calcular se o candidato está qualificado ou não. A presença do candidato é calculada considerando que o treinamento teve um total de 60 horas e utilizando a fórmula:\n",
        "\n",
        "(Total horas - número de faltas)/Total horas * 100;\n"
      ],
      "metadata": {
        "id": "3UpM724I5C19"
      }
    },
    {
      "cell_type": "code",
      "source": [
        "def qualificado():\n",
        "    dic = {\n",
        "        \"Bernardo\": {\"ausencias\" : 2, \"desempenho\" : 7},\n",
        "        \"Caíque\": {\"ausencias\" : 6, \"desempenho\" : 6},\n",
        "        \"Monique\": {\"ausencias\" : 27, \"desempenho\" : 8},\n",
        "        \"Elisa\": {\"ausencias\" : 11, \"desempenho\" : 9}\n",
        "    }\n",
        "\n",
        "    for x in dic:\n",
        "        presenca = (60 - (dic[x][\"ausencias\"]))/60*100\n",
        "        nota = dic[x][\"desempenho\"]\n",
        "        if presenca >= 60 and nota >= 7:\n",
        "            print(x + \": \" f\"{presenca}% de presença e \" + f\"nota {nota} - \" + f\"Status: Qualificado\")\n",
        "        else:\n",
        "            print(x + \": \" f\"{presenca}% de presença e \" + f\"nota {nota} - \" + f\"Status: Não qualificado\")\n",
        "\n",
        "qualificado()\n",
        "\n"
      ],
      "metadata": {
        "id": "Xv1MnjPQvkSt"
      },
      "execution_count": null,
      "outputs": []
    },
    {
      "cell_type": "markdown",
      "source": [
        "2) Crie uma função que recebe uma palavra (string), separa todos os caracteres em uma lista, retorna esta lista e quantidade de letras."
      ],
      "metadata": {
        "id": "fKKdyWo55e8w"
      }
    },
    {
      "cell_type": "code",
      "source": [
        "def listagem():\n",
        "    lista = input(str(\"Insira uma palavra:\"))\n",
        "    lista_tamanho = len(lista)\n",
        "    print(\"Palavra: {}\" .format(lista))\n",
        "    print(sorted(lista))\n",
        "    print(\"Quantidade de caracteres: {}\" .format(lista_tamanho))\n",
        "\n",
        "listagem()"
      ],
      "metadata": {
        "id": "Qq7QoqubvjbG"
      },
      "execution_count": null,
      "outputs": []
    },
    {
      "cell_type": "markdown",
      "source": [
        "3) Crie um programa que leia quanto dinheiro uma pessoa tem na carteira, e calcule quanto poderia comprar de cada moeda estrangeira. Considere a tabela de conversão abaixo:\n",
        "\n",
        "Valor convertido em real:\n",
        "*   Dólar Americano: 4,91\n",
        "*   Peso Argentino: 0,02\n",
        "*   Dólar Australiano: 3,18\n",
        "*   Dólar Canadense: 3,64\n",
        "*   Franco Suiço: 0,42\n",
        "*   Euro:  5,36\n",
        "*   Libra esterlina: 6,21\n",
        "\n",
        "\n",
        "\n",
        "\n",
        "\n",
        "\n",
        "\n"
      ],
      "metadata": {
        "id": "EEXxWdjH5sju"
      }
    },
    {
      "cell_type": "code",
      "source": [
        "def conversor():\n",
        "    dinheiro = float(input(\"Digite o valor na carteira: \"))\n",
        "    dolar = dinheiro/4.91\n",
        "    peso = dinheiro/0.02\n",
        "    dolar_aus = dinheiro/3.18\n",
        "    dolar_can = dinheiro/3.64\n",
        "    franco = dinheiro/0.42\n",
        "    euro = dinheiro/5.36\n",
        "    libra = dinheiro/6.21\n",
        "\n",
        "    print(\"Dólar: {}\" .format(dolar))\n",
        "    print(\"Peso Argentino: {}\" .format(peso))\n",
        "    print(\"Dólar Australiano: {}\" .format(dolar_aus))\n",
        "    print(\"Dólar Canadense: {}\" .format(dolar_can))\n",
        "    print(\"Franco Suíço: {}\" .format(franco))\n",
        "    print(\"Euro: {}\" .format(euro))\n",
        "    print(\"Libra Esterlina: {}\" .format(libra))\n",
        "\n",
        "conversor()"
      ],
      "metadata": {
        "id": "BFil1HpZvbFg"
      },
      "execution_count": null,
      "outputs": []
    },
    {
      "cell_type": "markdown",
      "source": [
        "\n",
        "4) O chefe decidiu premiar os melhores funcionários de sua empresa com um brinde. Para isso ela vai entregar um brinde para todos os funcionários que tiverem uma performance superior a média da equipe.\n",
        "\n",
        "Elabore uma função que recebe uma lista de nome em formato de dict (dicionário) com nome do funcionário e a média do funcionário (Valor de 0 a 10). Esta função deve calcular a média da equipe, identificar quais funcionários tem média igual ou superior a média da equipe e retornar uma lista com o nome dos funcionários que possuem média igual ou superior a média da equipe. A ordem dos nomes da lista de retorno deve ser em ordem decrescente."
      ],
      "metadata": {
        "id": "Tj2Ds76-6FXs"
      }
    },
    {
      "cell_type": "code",
      "source": [
        "dic = {\"Rose\": 7, \"Stefani\" : 6, \"Ariel\" : 6, \"Mariah\" : 8}\n",
        "\n",
        "dic2 = dic.items()\n",
        "sdic2 = sorted(dic2, key=lambda item: (-item[1], item[0]))\n",
        "dic3 = dict((x, y) for x, y in sdic2)\n",
        "\n",
        "def aprovados():\n",
        "    print(\"Funcionária(s) premiada(s):\")\n",
        "    for chave, valor in dic3.items():\n",
        "        soma = sum(dic3.values())\n",
        "        media = soma/len(dic3)\n",
        "        if valor >= media:\n",
        "            print(f\"{chave} (nota {valor})\")\n",
        "\n",
        "aprovados()"
      ],
      "metadata": {
        "id": "poEG0mnOvgSO"
      },
      "execution_count": null,
      "outputs": []
    },
    {
      "cell_type": "markdown",
      "source": [
        "5) Na variável países_ano, temos uma lista de listas, em que cada elemento é uma lista de dois elementos, em que o primeiro é o nome de um país e o segundo é o ano em que a nação foi fundada."
      ],
      "metadata": {
        "id": "pVSP5n1T_ZWQ"
      }
    },
    {
      "cell_type": "code",
      "source": [
        "lista_paises = [[\"Brasil\", \"1500\"],[\"Mexico\",\"1519\"], [\"Inglaterra\", \"927\"], [\"Espanha\",\"1978\"], [\"Escocia\", \"843\"]]"
      ],
      "metadata": {
        "id": "zRywrNff01he"
      },
      "execution_count": null,
      "outputs": []
    },
    {
      "cell_type": "markdown",
      "source": [
        "Você deseja criar uma nova lista de listas a partir do exemplo (lista_paises), em que cada elemento é uma lista de dois elementos, sendo o primeiro o nome do país (como é na lista original) e o segundo é o número de anos desde a fundação do país (considere que o ano atual é 2023)."
      ],
      "metadata": {
        "id": "OpU-UWXC01Ca"
      }
    },
    {
      "cell_type": "code",
      "source": [
        "lista_paises = [[\"Brasil\", \"1500\"],[\"Mexico\",\"1519\"], [\"Inglaterra\", \"927\"],\n",
        "[\"Espanha\",\"1978\"], [\"Escocia\", \"843\"]]\n",
        "\n",
        "def paises():\n",
        "\n",
        "    while True:\n",
        "        print(lista_paises)\n",
        "        comando = str(input(\"Digite NOVO para entrar com novo país e FIM para finalizar: \"))\n",
        "\n",
        "        if comando == \"NOVO\":\n",
        "            pais = str(input(\"Nome do país: \"))\n",
        "            ano = str(input(\"Ano de fundação: \"))\n",
        "            lista_paises.append([pais, ano])\n",
        "            print(\"País adicionado com sucesso!\")\n",
        "\n",
        "        elif comando == \"FIM\":\n",
        "            break\n",
        "            print(\"Fim.\")\n",
        "\n",
        "\n",
        "paises()"
      ],
      "metadata": {
        "id": "xaEQxcMFvhVa"
      },
      "execution_count": null,
      "outputs": []
    },
    {
      "cell_type": "markdown",
      "source": [
        "6) Um jogador de um jogo de vídeo game deseja subir de nível em seu personagem ao atingir 50 inimigos derrotados. Enquanto esse número não é alcançado, uma mensagem indicando quantos inimigos ainda faltam é exibida na tela.\n"
      ],
      "metadata": {
        "id": "_qb748YiCzh-"
      }
    },
    {
      "cell_type": "code",
      "source": [
        "inimigos_derrotados = 0\n",
        "nivel = 0\n",
        "\n",
        "while (inimigos_derrotados < 50):\n",
        "\n",
        "    print(f\"Faltam {50 - inimigos_derrotados} inimigos para você mudar de nível!\")\n",
        "\n",
        "    inimigos_derrotados += 1\n",
        "\n",
        "print(\"\\nVocê atingiu o próximo nível!\")\n",
        "nivel = 1"
      ],
      "metadata": {
        "id": "wooL40fJi_gj"
      },
      "execution_count": null,
      "outputs": []
    }
  ]
}