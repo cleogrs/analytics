{
  "nbformat": 4,
  "nbformat_minor": 0,
  "metadata": {
    "colab": {
      "provenance": [],
      "mount_file_id": "13rvt-l1WRNhXIBpRUHvCWmpe89AZd13E",
      "authorship_tag": "ABX9TyNsv0hLZ17sZFLWECEUOMVm",
      "include_colab_link": true
    },
    "kernelspec": {
      "name": "python3",
      "display_name": "Python 3"
    },
    "language_info": {
      "name": "python"
    }
  },
  "cells": [
    {
      "cell_type": "markdown",
      "metadata": {
        "id": "view-in-github",
        "colab_type": "text"
      },
      "source": [
        "<a href=\"https://colab.research.google.com/github/cleogrs/analytics/blob/main/Cleo_Gomes_da_Rocha_Santos_Exercicios_Frequencias_e_Medidas.ipynb\" target=\"_parent\"><img src=\"https://colab.research.google.com/assets/colab-badge.svg\" alt=\"Open In Colab\"/></a>"
      ]
    },
    {
      "cell_type": "code",
      "execution_count": null,
      "metadata": {
        "id": "0bco-5LLFTPy"
      },
      "outputs": [],
      "source": [
        "import pandas as pd\n",
        "import numpy as np\n",
        "import seaborn as sns\n",
        "import matplotlib.pyplot as plt\n",
        "import scipy.stats as stat"
      ]
    },
    {
      "cell_type": "code",
      "source": [
        "!pip install pydataset --quiet\n",
        "from pydataset import data"
      ],
      "metadata": {
        "id": "haGbtuThGEpD",
        "colab": {
          "base_uri": "https://localhost:8080/"
        },
        "outputId": "8512480a-c4fe-4e85-fb18-4b8a77994afb"
      },
      "execution_count": null,
      "outputs": [
        {
          "output_type": "stream",
          "name": "stdout",
          "text": [
            "\u001b[2K     \u001b[90m━━━━━━━━━━━━━━━━━━━━━━━━━━━━━━━━━━━━━━━━\u001b[0m \u001b[32m15.9/15.9 MB\u001b[0m \u001b[31m55.4 MB/s\u001b[0m eta \u001b[36m0:00:00\u001b[0m\n",
            "\u001b[?25h  Preparing metadata (setup.py) ... \u001b[?25l\u001b[?25hdone\n",
            "  Building wheel for pydataset (setup.py) ... \u001b[?25l\u001b[?25hdone\n",
            "initiated datasets repo at: /root/.pydataset/\n"
          ]
        }
      ]
    },
    {
      "cell_type": "code",
      "source": [
        "enem = pd.read_json('/content/drive/MyDrive/enem_2023.json')\n",
        "enem1 = enem.describe()\n",
        "enem1"
      ],
      "metadata": {
        "colab": {
          "base_uri": "https://localhost:8080/",
          "height": 300
        },
        "id": "SK38h5XlG-xB",
        "outputId": "0e18ce3d-2bbe-4bcc-a99e-306a74d83781"
      },
      "execution_count": null,
      "outputs": [
        {
          "output_type": "execute_result",
          "data": {
            "text/plain": [
              "       Linguagens  Ciências humanas  Ciências da natureza  Matemática      Redação\n",
              "count  897.000000        936.000000            824.000000  924.000000   860.000000\n",
              "mean   514.524809        527.042281            499.315583  535.965660   637.783532\n",
              "std     84.009313         77.811519             78.760404   86.648100   115.339972\n",
              "min    287.000000        289.900000            314.400000  319.800000   270.839965\n",
              "25%    458.360558        475.424546            444.709076  479.172971   556.468366\n",
              "50%    515.045250        524.519920            500.479263  533.247767   635.273973\n",
              "75%    571.635876        581.401952            548.751678  592.912963   715.989868\n",
              "max    804.456317        763.919695            802.004568  807.877902  1000.000000"
            ],
            "text/html": [
              "\n",
              "  <div id=\"df-0b4ddb74-a052-45c5-976d-92f0230985d3\" class=\"colab-df-container\">\n",
              "    <div>\n",
              "<style scoped>\n",
              "    .dataframe tbody tr th:only-of-type {\n",
              "        vertical-align: middle;\n",
              "    }\n",
              "\n",
              "    .dataframe tbody tr th {\n",
              "        vertical-align: top;\n",
              "    }\n",
              "\n",
              "    .dataframe thead th {\n",
              "        text-align: right;\n",
              "    }\n",
              "</style>\n",
              "<table border=\"1\" class=\"dataframe\">\n",
              "  <thead>\n",
              "    <tr style=\"text-align: right;\">\n",
              "      <th></th>\n",
              "      <th>Linguagens</th>\n",
              "      <th>Ciências humanas</th>\n",
              "      <th>Ciências da natureza</th>\n",
              "      <th>Matemática</th>\n",
              "      <th>Redação</th>\n",
              "    </tr>\n",
              "  </thead>\n",
              "  <tbody>\n",
              "    <tr>\n",
              "      <th>count</th>\n",
              "      <td>897.000000</td>\n",
              "      <td>936.000000</td>\n",
              "      <td>824.000000</td>\n",
              "      <td>924.000000</td>\n",
              "      <td>860.000000</td>\n",
              "    </tr>\n",
              "    <tr>\n",
              "      <th>mean</th>\n",
              "      <td>514.524809</td>\n",
              "      <td>527.042281</td>\n",
              "      <td>499.315583</td>\n",
              "      <td>535.965660</td>\n",
              "      <td>637.783532</td>\n",
              "    </tr>\n",
              "    <tr>\n",
              "      <th>std</th>\n",
              "      <td>84.009313</td>\n",
              "      <td>77.811519</td>\n",
              "      <td>78.760404</td>\n",
              "      <td>86.648100</td>\n",
              "      <td>115.339972</td>\n",
              "    </tr>\n",
              "    <tr>\n",
              "      <th>min</th>\n",
              "      <td>287.000000</td>\n",
              "      <td>289.900000</td>\n",
              "      <td>314.400000</td>\n",
              "      <td>319.800000</td>\n",
              "      <td>270.839965</td>\n",
              "    </tr>\n",
              "    <tr>\n",
              "      <th>25%</th>\n",
              "      <td>458.360558</td>\n",
              "      <td>475.424546</td>\n",
              "      <td>444.709076</td>\n",
              "      <td>479.172971</td>\n",
              "      <td>556.468366</td>\n",
              "    </tr>\n",
              "    <tr>\n",
              "      <th>50%</th>\n",
              "      <td>515.045250</td>\n",
              "      <td>524.519920</td>\n",
              "      <td>500.479263</td>\n",
              "      <td>533.247767</td>\n",
              "      <td>635.273973</td>\n",
              "    </tr>\n",
              "    <tr>\n",
              "      <th>75%</th>\n",
              "      <td>571.635876</td>\n",
              "      <td>581.401952</td>\n",
              "      <td>548.751678</td>\n",
              "      <td>592.912963</td>\n",
              "      <td>715.989868</td>\n",
              "    </tr>\n",
              "    <tr>\n",
              "      <th>max</th>\n",
              "      <td>804.456317</td>\n",
              "      <td>763.919695</td>\n",
              "      <td>802.004568</td>\n",
              "      <td>807.877902</td>\n",
              "      <td>1000.000000</td>\n",
              "    </tr>\n",
              "  </tbody>\n",
              "</table>\n",
              "</div>\n",
              "    <div class=\"colab-df-buttons\">\n",
              "\n",
              "  <div class=\"colab-df-container\">\n",
              "    <button class=\"colab-df-convert\" onclick=\"convertToInteractive('df-0b4ddb74-a052-45c5-976d-92f0230985d3')\"\n",
              "            title=\"Convert this dataframe to an interactive table.\"\n",
              "            style=\"display:none;\">\n",
              "\n",
              "  <svg xmlns=\"http://www.w3.org/2000/svg\" height=\"24px\" viewBox=\"0 -960 960 960\">\n",
              "    <path d=\"M120-120v-720h720v720H120Zm60-500h600v-160H180v160Zm220 220h160v-160H400v160Zm0 220h160v-160H400v160ZM180-400h160v-160H180v160Zm440 0h160v-160H620v160ZM180-180h160v-160H180v160Zm440 0h160v-160H620v160Z\"/>\n",
              "  </svg>\n",
              "    </button>\n",
              "\n",
              "  <style>\n",
              "    .colab-df-container {\n",
              "      display:flex;\n",
              "      gap: 12px;\n",
              "    }\n",
              "\n",
              "    .colab-df-convert {\n",
              "      background-color: #E8F0FE;\n",
              "      border: none;\n",
              "      border-radius: 50%;\n",
              "      cursor: pointer;\n",
              "      display: none;\n",
              "      fill: #1967D2;\n",
              "      height: 32px;\n",
              "      padding: 0 0 0 0;\n",
              "      width: 32px;\n",
              "    }\n",
              "\n",
              "    .colab-df-convert:hover {\n",
              "      background-color: #E2EBFA;\n",
              "      box-shadow: 0px 1px 2px rgba(60, 64, 67, 0.3), 0px 1px 3px 1px rgba(60, 64, 67, 0.15);\n",
              "      fill: #174EA6;\n",
              "    }\n",
              "\n",
              "    .colab-df-buttons div {\n",
              "      margin-bottom: 4px;\n",
              "    }\n",
              "\n",
              "    [theme=dark] .colab-df-convert {\n",
              "      background-color: #3B4455;\n",
              "      fill: #D2E3FC;\n",
              "    }\n",
              "\n",
              "    [theme=dark] .colab-df-convert:hover {\n",
              "      background-color: #434B5C;\n",
              "      box-shadow: 0px 1px 3px 1px rgba(0, 0, 0, 0.15);\n",
              "      filter: drop-shadow(0px 1px 2px rgba(0, 0, 0, 0.3));\n",
              "      fill: #FFFFFF;\n",
              "    }\n",
              "  </style>\n",
              "\n",
              "    <script>\n",
              "      const buttonEl =\n",
              "        document.querySelector('#df-0b4ddb74-a052-45c5-976d-92f0230985d3 button.colab-df-convert');\n",
              "      buttonEl.style.display =\n",
              "        google.colab.kernel.accessAllowed ? 'block' : 'none';\n",
              "\n",
              "      async function convertToInteractive(key) {\n",
              "        const element = document.querySelector('#df-0b4ddb74-a052-45c5-976d-92f0230985d3');\n",
              "        const dataTable =\n",
              "          await google.colab.kernel.invokeFunction('convertToInteractive',\n",
              "                                                    [key], {});\n",
              "        if (!dataTable) return;\n",
              "\n",
              "        const docLinkHtml = 'Like what you see? Visit the ' +\n",
              "          '<a target=\"_blank\" href=https://colab.research.google.com/notebooks/data_table.ipynb>data table notebook</a>'\n",
              "          + ' to learn more about interactive tables.';\n",
              "        element.innerHTML = '';\n",
              "        dataTable['output_type'] = 'display_data';\n",
              "        await google.colab.output.renderOutput(dataTable, element);\n",
              "        const docLink = document.createElement('div');\n",
              "        docLink.innerHTML = docLinkHtml;\n",
              "        element.appendChild(docLink);\n",
              "      }\n",
              "    </script>\n",
              "  </div>\n",
              "\n",
              "\n",
              "<div id=\"df-a9e6a1c3-8598-4464-9bea-537c56259f75\">\n",
              "  <button class=\"colab-df-quickchart\" onclick=\"quickchart('df-a9e6a1c3-8598-4464-9bea-537c56259f75')\"\n",
              "            title=\"Suggest charts\"\n",
              "            style=\"display:none;\">\n",
              "\n",
              "<svg xmlns=\"http://www.w3.org/2000/svg\" height=\"24px\"viewBox=\"0 0 24 24\"\n",
              "     width=\"24px\">\n",
              "    <g>\n",
              "        <path d=\"M19 3H5c-1.1 0-2 .9-2 2v14c0 1.1.9 2 2 2h14c1.1 0 2-.9 2-2V5c0-1.1-.9-2-2-2zM9 17H7v-7h2v7zm4 0h-2V7h2v10zm4 0h-2v-4h2v4z\"/>\n",
              "    </g>\n",
              "</svg>\n",
              "  </button>\n",
              "\n",
              "<style>\n",
              "  .colab-df-quickchart {\n",
              "      --bg-color: #E8F0FE;\n",
              "      --fill-color: #1967D2;\n",
              "      --hover-bg-color: #E2EBFA;\n",
              "      --hover-fill-color: #174EA6;\n",
              "      --disabled-fill-color: #AAA;\n",
              "      --disabled-bg-color: #DDD;\n",
              "  }\n",
              "\n",
              "  [theme=dark] .colab-df-quickchart {\n",
              "      --bg-color: #3B4455;\n",
              "      --fill-color: #D2E3FC;\n",
              "      --hover-bg-color: #434B5C;\n",
              "      --hover-fill-color: #FFFFFF;\n",
              "      --disabled-bg-color: #3B4455;\n",
              "      --disabled-fill-color: #666;\n",
              "  }\n",
              "\n",
              "  .colab-df-quickchart {\n",
              "    background-color: var(--bg-color);\n",
              "    border: none;\n",
              "    border-radius: 50%;\n",
              "    cursor: pointer;\n",
              "    display: none;\n",
              "    fill: var(--fill-color);\n",
              "    height: 32px;\n",
              "    padding: 0;\n",
              "    width: 32px;\n",
              "  }\n",
              "\n",
              "  .colab-df-quickchart:hover {\n",
              "    background-color: var(--hover-bg-color);\n",
              "    box-shadow: 0 1px 2px rgba(60, 64, 67, 0.3), 0 1px 3px 1px rgba(60, 64, 67, 0.15);\n",
              "    fill: var(--button-hover-fill-color);\n",
              "  }\n",
              "\n",
              "  .colab-df-quickchart-complete:disabled,\n",
              "  .colab-df-quickchart-complete:disabled:hover {\n",
              "    background-color: var(--disabled-bg-color);\n",
              "    fill: var(--disabled-fill-color);\n",
              "    box-shadow: none;\n",
              "  }\n",
              "\n",
              "  .colab-df-spinner {\n",
              "    border: 2px solid var(--fill-color);\n",
              "    border-color: transparent;\n",
              "    border-bottom-color: var(--fill-color);\n",
              "    animation:\n",
              "      spin 1s steps(1) infinite;\n",
              "  }\n",
              "\n",
              "  @keyframes spin {\n",
              "    0% {\n",
              "      border-color: transparent;\n",
              "      border-bottom-color: var(--fill-color);\n",
              "      border-left-color: var(--fill-color);\n",
              "    }\n",
              "    20% {\n",
              "      border-color: transparent;\n",
              "      border-left-color: var(--fill-color);\n",
              "      border-top-color: var(--fill-color);\n",
              "    }\n",
              "    30% {\n",
              "      border-color: transparent;\n",
              "      border-left-color: var(--fill-color);\n",
              "      border-top-color: var(--fill-color);\n",
              "      border-right-color: var(--fill-color);\n",
              "    }\n",
              "    40% {\n",
              "      border-color: transparent;\n",
              "      border-right-color: var(--fill-color);\n",
              "      border-top-color: var(--fill-color);\n",
              "    }\n",
              "    60% {\n",
              "      border-color: transparent;\n",
              "      border-right-color: var(--fill-color);\n",
              "    }\n",
              "    80% {\n",
              "      border-color: transparent;\n",
              "      border-right-color: var(--fill-color);\n",
              "      border-bottom-color: var(--fill-color);\n",
              "    }\n",
              "    90% {\n",
              "      border-color: transparent;\n",
              "      border-bottom-color: var(--fill-color);\n",
              "    }\n",
              "  }\n",
              "</style>\n",
              "\n",
              "  <script>\n",
              "    async function quickchart(key) {\n",
              "      const quickchartButtonEl =\n",
              "        document.querySelector('#' + key + ' button');\n",
              "      quickchartButtonEl.disabled = true;  // To prevent multiple clicks.\n",
              "      quickchartButtonEl.classList.add('colab-df-spinner');\n",
              "      try {\n",
              "        const charts = await google.colab.kernel.invokeFunction(\n",
              "            'suggestCharts', [key], {});\n",
              "      } catch (error) {\n",
              "        console.error('Error during call to suggestCharts:', error);\n",
              "      }\n",
              "      quickchartButtonEl.classList.remove('colab-df-spinner');\n",
              "      quickchartButtonEl.classList.add('colab-df-quickchart-complete');\n",
              "    }\n",
              "    (() => {\n",
              "      let quickchartButtonEl =\n",
              "        document.querySelector('#df-a9e6a1c3-8598-4464-9bea-537c56259f75 button');\n",
              "      quickchartButtonEl.style.display =\n",
              "        google.colab.kernel.accessAllowed ? 'block' : 'none';\n",
              "    })();\n",
              "  </script>\n",
              "</div>\n",
              "\n",
              "  <div id=\"id_e0efe3f5-627d-47b7-8417-b41ca441d871\">\n",
              "    <style>\n",
              "      .colab-df-generate {\n",
              "        background-color: #E8F0FE;\n",
              "        border: none;\n",
              "        border-radius: 50%;\n",
              "        cursor: pointer;\n",
              "        display: none;\n",
              "        fill: #1967D2;\n",
              "        height: 32px;\n",
              "        padding: 0 0 0 0;\n",
              "        width: 32px;\n",
              "      }\n",
              "\n",
              "      .colab-df-generate:hover {\n",
              "        background-color: #E2EBFA;\n",
              "        box-shadow: 0px 1px 2px rgba(60, 64, 67, 0.3), 0px 1px 3px 1px rgba(60, 64, 67, 0.15);\n",
              "        fill: #174EA6;\n",
              "      }\n",
              "\n",
              "      [theme=dark] .colab-df-generate {\n",
              "        background-color: #3B4455;\n",
              "        fill: #D2E3FC;\n",
              "      }\n",
              "\n",
              "      [theme=dark] .colab-df-generate:hover {\n",
              "        background-color: #434B5C;\n",
              "        box-shadow: 0px 1px 3px 1px rgba(0, 0, 0, 0.15);\n",
              "        filter: drop-shadow(0px 1px 2px rgba(0, 0, 0, 0.3));\n",
              "        fill: #FFFFFF;\n",
              "      }\n",
              "    </style>\n",
              "    <button class=\"colab-df-generate\" onclick=\"generateWithVariable('enem1')\"\n",
              "            title=\"Generate code using this dataframe.\"\n",
              "            style=\"display:none;\">\n",
              "\n",
              "  <svg xmlns=\"http://www.w3.org/2000/svg\" height=\"24px\"viewBox=\"0 0 24 24\"\n",
              "       width=\"24px\">\n",
              "    <path d=\"M7,19H8.4L18.45,9,17,7.55,7,17.6ZM5,21V16.75L18.45,3.32a2,2,0,0,1,2.83,0l1.4,1.43a1.91,1.91,0,0,1,.58,1.4,1.91,1.91,0,0,1-.58,1.4L9.25,21ZM18.45,9,17,7.55Zm-12,3A5.31,5.31,0,0,0,4.9,8.1,5.31,5.31,0,0,0,1,6.5,5.31,5.31,0,0,0,4.9,4.9,5.31,5.31,0,0,0,6.5,1,5.31,5.31,0,0,0,8.1,4.9,5.31,5.31,0,0,0,12,6.5,5.46,5.46,0,0,0,6.5,12Z\"/>\n",
              "  </svg>\n",
              "    </button>\n",
              "    <script>\n",
              "      (() => {\n",
              "      const buttonEl =\n",
              "        document.querySelector('#id_e0efe3f5-627d-47b7-8417-b41ca441d871 button.colab-df-generate');\n",
              "      buttonEl.style.display =\n",
              "        google.colab.kernel.accessAllowed ? 'block' : 'none';\n",
              "\n",
              "      buttonEl.onclick = () => {\n",
              "        google.colab.notebook.generateWithVariable('enem1');\n",
              "      }\n",
              "      })();\n",
              "    </script>\n",
              "  </div>\n",
              "\n",
              "    </div>\n",
              "  </div>\n"
            ],
            "application/vnd.google.colaboratory.intrinsic+json": {
              "type": "dataframe",
              "variable_name": "enem1",
              "summary": "{\n  \"name\": \"enem1\",\n  \"rows\": 8,\n  \"fields\": [\n    {\n      \"column\": \"Linguagens\",\n      \"properties\": {\n        \"dtype\": \"number\",\n        \"std\": 260.1767838163819,\n        \"min\": 84.00931315971195,\n        \"max\": 897.0,\n        \"num_unique_values\": 8,\n        \"samples\": [\n          514.5248092106333,\n          515.0452497632,\n          897.0\n        ],\n        \"semantic_type\": \"\",\n        \"description\": \"\"\n      }\n    },\n    {\n      \"column\": \"Ci\\u00eancias humanas\",\n      \"properties\": {\n        \"dtype\": \"number\",\n        \"std\": 263.71645891458803,\n        \"min\": 77.81151916399475,\n        \"max\": 936.0,\n        \"num_unique_values\": 8,\n        \"samples\": [\n          527.0422808644046,\n          524.51992005745,\n          936.0\n        ],\n        \"semantic_type\": \"\",\n        \"description\": \"\"\n      }\n    },\n    {\n      \"column\": \"Ci\\u00eancias da natureza\",\n      \"properties\": {\n        \"dtype\": \"number\",\n        \"std\": 243.04266042185378,\n        \"min\": 78.76040369093829,\n        \"max\": 824.0,\n        \"num_unique_values\": 8,\n        \"samples\": [\n          499.3155828489798,\n          500.47926306565,\n          824.0\n        ],\n        \"semantic_type\": \"\",\n        \"description\": \"\"\n      }\n    },\n    {\n      \"column\": \"Matem\\u00e1tica\",\n      \"properties\": {\n        \"dtype\": \"number\",\n        \"std\": 261.7491627218222,\n        \"min\": 86.64810003261275,\n        \"max\": 924.0,\n        \"num_unique_values\": 8,\n        \"samples\": [\n          535.9656600928728,\n          533.2477669785001,\n          924.0\n        ],\n        \"semantic_type\": \"\",\n        \"description\": \"\"\n      }\n    },\n    {\n      \"column\": \"Reda\\u00e7\\u00e3o\",\n      \"properties\": {\n        \"dtype\": \"number\",\n        \"std\": 290.037818244487,\n        \"min\": 115.33997244479161,\n        \"max\": 1000.0,\n        \"num_unique_values\": 8,\n        \"samples\": [\n          637.7835320695872,\n          635.27397319435,\n          860.0\n        ],\n        \"semantic_type\": \"\",\n        \"description\": \"\"\n      }\n    }\n  ]\n}"
            }
          },
          "metadata": {},
          "execution_count": 4
        }
      ]
    },
    {
      "cell_type": "markdown",
      "source": [
        "Você é uma pesquisadora de um cursinho para estudantes que querem ingressar na universidade em 2025. Seu objetivo é retirar informações da base de dados do enem do ano anterior para alinhar melhor as estratégias do cursinho para cada estudante.\n",
        "O dado possui 6 colunas, 5 delas representam as disciplinas do ENEM e uma o gênero das pessoas que fizeram a prova. No dado existe a representação de 1000 pessoas, sendo cada uma delas uma linha."
      ],
      "metadata": {
        "id": "ipUtkNcfI9QZ"
      }
    },
    {
      "cell_type": "markdown",
      "source": [
        "1. Qual das disciplinas tem a maior amplitude de nota?\n",
        "\n",
        "R: Redação"
      ],
      "metadata": {
        "id": "gkugJbuDJMR4"
      }
    },
    {
      "cell_type": "code",
      "source": [
        "enem1.loc[\"amplitude\"] = enem1.loc['max'] - enem1.loc['min']\n",
        "enem1.loc[\"amplitude\"]"
      ],
      "metadata": {
        "colab": {
          "base_uri": "https://localhost:8080/"
        },
        "id": "O1mav5SXJK8S",
        "outputId": "a58d22d4-d1c9-4fc6-f51f-c70f32c3c820"
      },
      "execution_count": null,
      "outputs": [
        {
          "output_type": "execute_result",
          "data": {
            "text/plain": [
              "Linguagens              517.456317\n",
              "Ciências humanas        474.019695\n",
              "Ciências da natureza    487.604568\n",
              "Matemática              488.077902\n",
              "Redação                 729.160035\n",
              "Name: amplitude, dtype: float64"
            ]
          },
          "metadata": {},
          "execution_count": 5
        }
      ]
    },
    {
      "cell_type": "markdown",
      "source": [
        "2. Qual é a média e a mediana para cada uma das disciplinas? (Lembre-se de remover todos os valores nulos quando considerar a mediana)\n"
      ],
      "metadata": {
        "id": "v_IJ43TbJVdh"
      }
    },
    {
      "cell_type": "code",
      "source": [
        "#media\n",
        "print(\"Média das disciplinas\")\n",
        "enem1.mean()"
      ],
      "metadata": {
        "colab": {
          "base_uri": "https://localhost:8080/"
        },
        "id": "Zer9IQwoJ7NQ",
        "outputId": "0d328a1b-24cb-418f-abdd-de9417b97c2a"
      },
      "execution_count": null,
      "outputs": [
        {
          "output_type": "stream",
          "name": "stdout",
          "text": [
            "Média das disciplinas\n"
          ]
        },
        {
          "output_type": "execute_result",
          "data": {
            "text/plain": [
              "Linguagens              516.609827\n",
              "Ciências humanas        516.671068\n",
              "Ciências da natureza    500.002793\n",
              "Matemática              529.744807\n",
              "Redação                 613.428412\n",
              "dtype: float64"
            ]
          },
          "metadata": {},
          "execution_count": 6
        }
      ]
    },
    {
      "cell_type": "code",
      "source": [
        "#mediana\n",
        "print(\"Mediana das disciplinas\")\n",
        "null_filter = enem1.mask(enem1.isnull(), np.nan)\n",
        "enem_clean = null_filter.dropna()\n",
        "enem_clean.median()"
      ],
      "metadata": {
        "colab": {
          "base_uri": "https://localhost:8080/"
        },
        "id": "Dh0NUhQICVyv",
        "outputId": "e53b515b-b058-4d76-8d4a-0769299b6566"
      },
      "execution_count": null,
      "outputs": [
        {
          "output_type": "stream",
          "name": "stdout",
          "text": [
            "Mediana das disciplinas\n"
          ]
        },
        {
          "output_type": "execute_result",
          "data": {
            "text/plain": [
              "Linguagens              515.045250\n",
              "Ciências humanas        524.519920\n",
              "Ciências da natureza    499.315583\n",
              "Matemática              533.247767\n",
              "Redação                 637.783532\n",
              "dtype: float64"
            ]
          },
          "metadata": {},
          "execution_count": 7
        }
      ]
    },
    {
      "cell_type": "markdown",
      "source": [
        "3. Considerando o curso de Ciência da Computação da UFPE, onde o peso cada uma das disciplinas ponderado:\n",
        "\n",
        "a. Redação - 2\n",
        "\n",
        "b. Matemática e suas Tecnologias - 4\n",
        "\n",
        "c. Linguagens, Códigos e suas Tecnologias - 2\n",
        "\n",
        "d. Ciências Humanas e suas Tecnologias - 1\n",
        "\n",
        "e. Ciências da Natureza e suas Tecnologias - 1\n",
        "\n",
        "Qual o desvio padrão e média das notas dos 500 estudantes mais bem colocados considerando esses pesos?\n"
      ],
      "metadata": {
        "id": "tWRIiV-CJXrY"
      }
    },
    {
      "cell_type": "code",
      "source": [
        "#media ponderada\n",
        "media_notas = ((enem[\"Redação\"]*2) + (enem[\"Matemática\"]*4) + (enem[\"Linguagens\"] *2) + (enem[\"Ciências humanas\"]) + (enem[\"Ciências da natureza\"])) / 10\n",
        "enem[\"Média de CC\"] = media_notas\n",
        "\n",
        "#media e desvio padrão da nota final dos 500+\n",
        "print(\"Média e desvio padrão dos 500 mais bem colocados\")\n",
        "rank500 = media_notas.nlargest(500)\n",
        "rank500.agg([\"mean\", np.std])"
      ],
      "metadata": {
        "colab": {
          "base_uri": "https://localhost:8080/"
        },
        "id": "jI2F25ZuJ6D4",
        "outputId": "c26847c5-fc33-4767-8452-ae688e971aa1"
      },
      "execution_count": null,
      "outputs": [
        {
          "output_type": "stream",
          "name": "stdout",
          "text": [
            "Média e desvio padrão dos 500 mais bem colocados\n"
          ]
        },
        {
          "output_type": "execute_result",
          "data": {
            "text/plain": [
              "mean    557.289677\n",
              "std      40.435866\n",
              "dtype: float64"
            ]
          },
          "metadata": {},
          "execution_count": 8
        }
      ]
    },
    {
      "cell_type": "markdown",
      "source": [
        "4. Se todos esses estudantes aplicassem para ciência da computação e existem apenas 40 vagas, qual seria a variância e média da nota dos estudantes que entraram no curso de ciência da computação?"
      ],
      "metadata": {
        "id": "w3IWG4jGJ0z4"
      }
    },
    {
      "cell_type": "code",
      "source": [
        "# Média e variância das notas dos aprovados em ciência da computação\n",
        "print(\"Média e variância dos 40 aprovados\")\n",
        "rank40 = media_notas.nlargest(40)\n",
        "rank40.agg([\"mean\", \"var\"])"
      ],
      "metadata": {
        "colab": {
          "base_uri": "https://localhost:8080/"
        },
        "id": "p2goLVZkJ6nf",
        "outputId": "672980ee-d86c-4246-c405-f6123f9e0a47"
      },
      "execution_count": null,
      "outputs": [
        {
          "output_type": "stream",
          "name": "stdout",
          "text": [
            "Média e variância dos 40 aprovados\n"
          ]
        },
        {
          "output_type": "execute_result",
          "data": {
            "text/plain": [
              "mean    636.682742\n",
              "var     295.767504\n",
              "dtype: float64"
            ]
          },
          "metadata": {},
          "execution_count": 11
        }
      ]
    },
    {
      "cell_type": "markdown",
      "source": [
        "5. Qual o valor do teto do terceiro quartil para as disciplinas de matemática e linguagens?"
      ],
      "metadata": {
        "id": "07M_foYkJ5lw"
      }
    },
    {
      "cell_type": "code",
      "source": [
        "#terceiro quartil matemática\n",
        "enem[\"Matemática\"].quantile(0.75)"
      ],
      "metadata": {
        "colab": {
          "base_uri": "https://localhost:8080/"
        },
        "id": "lB7cwC_SJ-0I",
        "outputId": "aca22ae5-1312-41ef-a3ba-cc2d49d53f5d"
      },
      "execution_count": null,
      "outputs": [
        {
          "output_type": "execute_result",
          "data": {
            "text/plain": [
              "592.9129628887"
            ]
          },
          "metadata": {},
          "execution_count": 16
        }
      ]
    },
    {
      "cell_type": "code",
      "source": [
        "#terceiro quartil linguagens\n",
        "enem[\"Linguagens\"].quantile(0.75)"
      ],
      "metadata": {
        "colab": {
          "base_uri": "https://localhost:8080/"
        },
        "id": "1GYJLf40cfPx",
        "outputId": "6115f55a-f20b-413e-e8c7-617d5b73abd5"
      },
      "execution_count": null,
      "outputs": [
        {
          "output_type": "execute_result",
          "data": {
            "text/plain": [
              "571.6358759278"
            ]
          },
          "metadata": {},
          "execution_count": 17
        }
      ]
    },
    {
      "cell_type": "markdown",
      "source": [
        "6. Faça o histograma de Redação e Linguagens, de 20 em 20 pontos. Podemos dizer que são histogramas simétricos, justifique e classifique se não assimétricas?\n",
        "\n",
        "**R: São simétricos, pois ambos os lados (esquerdo e direito) possuem espelhamento a partir do ponto médio em forma de sino, o que conclu-se ser uma distribuição normal.**"
      ],
      "metadata": {
        "id": "Jpn4F-KcJ_Qo"
      }
    },
    {
      "cell_type": "code",
      "source": [
        "plt.figure(figsize=(4,4))\n",
        "plt.hist(enem[\"Redação\"], bins=50, color=\"purple\", edgecolor=\"white\")\n",
        "plt.title(\"Histograma Redação\", fontsize=15)\n",
        "plt.xlabel('Nota', fontsize=12)\n",
        "plt.ylabel('Frequência', fontsize=12)\n",
        "plt.tick_params(labelsize=10)"
      ],
      "metadata": {
        "colab": {
          "base_uri": "https://localhost:8080/",
          "height": 416
        },
        "id": "2ad978PgCtjb",
        "outputId": "9c1f3558-0659-4138-f117-ddb232c312c0"
      },
      "execution_count": null,
      "outputs": [
        {
          "output_type": "display_data",
          "data": {
            "text/plain": [
              "<Figure size 400x400 with 1 Axes>"
            ],
            "image/png": "[encoded data removed]"
          },
          "metadata": {}
        }
      ]
    },
    {
      "cell_type": "code",
      "source": [
        "plt.figure(figsize=(4,4))\n",
        "plt.hist(enem[\"Linguagens\"], bins=50, color='purple', edgecolor=\"white\")\n",
        "plt.title(\"Histograma Linguagens\", fontsize=15)\n",
        "plt.xlabel('Nota', fontsize=12)\n",
        "plt.ylabel('Frequência', fontsize=12)\n",
        "plt.tick_params(labelsize=10)"
      ],
      "metadata": {
        "colab": {
          "base_uri": "https://localhost:8080/",
          "height": 416
        },
        "id": "x7vpuqiSKCag",
        "outputId": "684be3c6-d04a-468f-ff4c-c62bf338e108"
      },
      "execution_count": null,
      "outputs": [
        {
          "output_type": "display_data",
          "data": {
            "text/plain": [
              "<Figure size 400x400 with 1 Axes>"
            ],
            "image/png": "[encoded data removed]"
          },
          "metadata": {}
        }
      ]
    },
    {
      "cell_type": "markdown",
      "source": [
        "7. Agora coloque um range fixo de 0 até 1000, você ainda tem a mesma opinião quanto a simetria? [plt.hist(dado, bins=_, range=[0, 1000])\n",
        "\n",
        "**R: Continuam simétricos, o que indica que a distribuição dos dados é consistente.**\n"
      ],
      "metadata": {
        "id": "eDlSFALVKHtY"
      }
    },
    {
      "cell_type": "code",
      "source": [
        "plt.figure(figsize=(4,4))\n",
        "plt.hist(enem[\"Redação\"], bins=50, range=[0,1000], color=\"purple\", edgecolor=\"white\")\n",
        "plt.title(\"Histograma Redação\", fontsize=15)\n",
        "plt.xlabel('Nota', fontsize=12)\n",
        "plt.ylabel('Frequência', fontsize=12)\n",
        "plt.tick_params(labelsize=10)"
      ],
      "metadata": {
        "colab": {
          "base_uri": "https://localhost:8080/",
          "height": 416
        },
        "id": "fKVrSzDmC_oW",
        "outputId": "c0505e60-a86d-4e12-8f92-6d9eda447d46"
      },
      "execution_count": null,
      "outputs": [
        {
          "output_type": "display_data",
          "data": {
            "text/plain": [
              "<Figure size 400x400 with 1 Axes>"
            ],
            "image/png": "[encoded data removed]"
          },
          "metadata": {}
        }
      ]
    },
    {
      "cell_type": "code",
      "source": [
        "plt.figure(figsize=(4,4))\n",
        "plt.hist(enem[\"Linguagens\"], bins=50, range=[0,1000], color='purple', edgecolor=\"white\")\n",
        "plt.title(\"Histograma Linguagens\", fontsize=15)\n",
        "plt.xlabel('Nota', fontsize=12)\n",
        "plt.ylabel('Frequência', fontsize=12)\n",
        "plt.tick_params(labelsize=10)"
      ],
      "metadata": {
        "colab": {
          "base_uri": "https://localhost:8080/",
          "height": 416
        },
        "id": "MPSORa10YphR",
        "outputId": "8f9c2d5b-ee46-4642-8e4a-ea14aa3c4268"
      },
      "execution_count": null,
      "outputs": [
        {
          "output_type": "display_data",
          "data": {
            "text/plain": [
              "<Figure size 400x400 with 1 Axes>"
            ],
            "image/png": "[encoded data removed]"
          },
          "metadata": {}
        }
      ]
    },
    {
      "cell_type": "markdown",
      "source": [
        "8. Faça um boxplot do quartil de todas as disciplinas de ciências da natureza e redação. É possível enxergar outliers? Utilize o método IQR.\n",
        "\n",
        "**R:Sim, é possível enxergar outliers (3 em Ciências da natureza e 4 em Redação)**\n"
      ],
      "metadata": {
        "id": "KRQ1Zm15KLZw"
      }
    },
    {
      "cell_type": "code",
      "source": [
        "plt.figure(figsize=(4,4))\n",
        "sns.boxplot(data = enem[\"Ciências da natureza\"], showfliers = True)\n",
        "plt.title(\"Boxplot Ciências da Natureza\", fontsize=15)\n",
        "plt.xlabel('Nota', fontsize=12)\n",
        "plt.ylabel('Frequência', fontsize=12)\n",
        "plt.tick_params(labelsize=10)"
      ],
      "metadata": {
        "colab": {
          "base_uri": "https://localhost:8080/",
          "height": 404
        },
        "id": "Z9GHwbs2KNmR",
        "outputId": "eed1adf6-8ee3-4bab-c0fa-7824c249a88d"
      },
      "execution_count": null,
      "outputs": [
        {
          "output_type": "display_data",
          "data": {
            "text/plain": [
              "<Figure size 400x400 with 1 Axes>"
            ],
            "image/png": "[encoded data removed]"
          },
          "metadata": {}
        }
      ]
    },
    {
      "cell_type": "code",
      "source": [
        "plt.figure(figsize=(4,4))\n",
        "sns.boxplot(data = enem[\"Redação\"], showfliers = True)\n",
        "plt.title(\"Boxplot Redação\", fontsize=15)\n",
        "plt.xlabel('Nota', fontsize=12)\n",
        "plt.ylabel('Frequência', fontsize=12)\n",
        "plt.tick_params(labelsize=10)"
      ],
      "metadata": {
        "colab": {
          "base_uri": "https://localhost:8080/",
          "height": 402
        },
        "id": "4X9fsizT_YDG",
        "outputId": "2d8e7592-cfd2-499a-8e56-9be208ccc688"
      },
      "execution_count": null,
      "outputs": [
        {
          "output_type": "display_data",
          "data": {
            "text/plain": [
              "<Figure size 400x400 with 1 Axes>"
            ],
            "image/png": "[encoded data removed]"
          },
          "metadata": {}
        }
      ]
    },
    {
      "cell_type": "code",
      "source": [
        "def outliers(df, column):\n",
        "  enem.select_dtypes(include=[np.number]).columns\n",
        "  q1 = df[column].quantile(0.25)\n",
        "  q3 = df[column].quantile(0.75)\n",
        "  iqr = q3 - q1\n",
        "  min = q1 - 1.5 * iqr\n",
        "  max = q3 + 1.5 * iqr\n",
        "\n",
        "  outlier = df[(df[column] < min)|(df[column] > max)][column]\n",
        "  return outlier\n",
        "\n",
        "print(\"Outliers em Ciências da natureza: \",  outliers(enem, \"Ciências da natureza\").count())\n",
        "print(\"Outliers em Redação: \",  outliers(enem, \"Redação\").count())"
      ],
      "metadata": {
        "colab": {
          "base_uri": "https://localhost:8080/"
        },
        "id": "pBmLzxMznuqs",
        "outputId": "06124a64-9fdc-4a9c-963f-34a26ba5e6a1"
      },
      "execution_count": null,
      "outputs": [
        {
          "output_type": "stream",
          "name": "stdout",
          "text": [
            "Outliers em Ciências da natureza:  3\n",
            "Outliers em Redação:  4\n"
          ]
        }
      ]
    },
    {
      "cell_type": "markdown",
      "source": [
        "9. Remova todos os outliers e verifique se eles são passíveis de alterar a média nacional significativamente? (considere significativamente um valor acima de 5%)\n",
        "\n",
        "**R: Não alteram significativamente**"
      ],
      "metadata": {
        "id": "dHAWVMtDKP4I"
      }
    },
    {
      "cell_type": "code",
      "source": [
        "#removendo outliers da média nacional\n",
        "media_geral = (enem[\"Redação\"] + enem[\"Matemática\"] + enem[\"Linguagens\"] + enem[\"Ciências humanas\"] + enem[\"Ciências da natureza\"]) / 5\n",
        "enem[\"Média Nacional\"] = media_geral\n",
        "media_nac = media_geral.mean()\n",
        "\n",
        "enem.select_dtypes(include=[np.number]).columns\n",
        "q1 = enem[\"Média Nacional\"].quantile(0.25)\n",
        "q3 = enem[\"Média Nacional\"].quantile(0.75)\n",
        "iqr = q3 - q1\n",
        "min = q1 - 1.5 * iqr\n",
        "max = q3 + 1.5 * iqr\n",
        "\n",
        "enem_filtrado = enem[([enem[\"Média Nacional\"]] > min) & (enem[\"Média Nacional\"] < max)]\n",
        "\n",
        "#porcentagem de mudança\n",
        "nacional_comout = enem[\"Média Nacional\"].mean()\n",
        "nacional_semout = enem_filtrado[\"Média Nacional\"].mean()\n",
        "porcentagem = (nacional_semout / nacional_comout) / 100\n",
        "\n",
        "print(\"Média nacional sem remoção de outliers: \", nacional_comout)\n",
        "print(\"Média nacional após remoção de outliers: \", nacional_semout)\n",
        "print(\"Percentual de mudança: \", porcentagem)\n",
        "\n",
        "\n",
        "if porcentagem >= 0.05:\n",
        "  print()\n",
        "  print(\"Mudança maior que 5%\")\n",
        "else:\n",
        "  print(\"Mudança não significativa\")"
      ],
      "metadata": {
        "colab": {
          "base_uri": "https://localhost:8080/"
        },
        "id": "Th5zfCl3UZWI",
        "outputId": "a3db9849-87a2-4573-f391-d65b22f52b5e"
      },
      "execution_count": null,
      "outputs": [
        {
          "output_type": "stream",
          "name": "stdout",
          "text": [
            "Média nacional sem remoção de outliers:  545.2652640858395\n",
            "Média nacional após remoção de outliers:  544.8591356381613\n",
            "Percentual de mudança:  0.009992551727123879\n",
            "Mudança não significativa\n"
          ]
        }
      ]
    },
    {
      "cell_type": "markdown",
      "source": [
        "10. Considerando valores nulos, tente encontrar qual seria a melhor medida de tendência que pode substituir as notas nulas. Média, moda ou mediana? Substitua o valor por todos os três e diga qual delas altera menos a média geral e o desvio padrão.\n",
        "\n",
        "\n",
        "**R: A média é a melhor medida de substituição neste caso, pois é imperceptível a alteração em relação a média e diminui o desvio padrão, o que sinaliza menor dispersão dos dados.**"
      ],
      "metadata": {
        "id": "Ee3yBoOfKTJ_"
      }
    },
    {
      "cell_type": "code",
      "source": [
        "enem_antes = media_geral.agg([\"mean\", np.std])\n",
        "\n",
        "enem_na_mediana = media_geral.fillna(media_geral.median())\n",
        "enem_depois_mediana = enem_na_mediana.agg([np.mean, np.std])\n",
        "\n",
        "enem_na_media = media_geral.fillna(media_geral.mean())\n",
        "enem_depois_media = enem_na_media.agg([np.mean, np.std])\n",
        "\n",
        "enem_na_moda = media_geral.fillna(media_geral.mode())\n",
        "enem_depois_moda = enem_na_moda.agg([np.mean, np.std])\n",
        "\n",
        "print(\"Média nacional e desvio padrão antes de tratar os nulos: \\n {}\\n\" .format(enem_antes))\n",
        "print(\"Média nacional e desvio padrão depois de tratar os nulos com a mediana: \\n {}\\n\" .format(enem_depois_mediana))\n",
        "print(\"Média nacional e desvio padrão depois de tratar os nulos com a média: \\n {}\\n\" .format(enem_depois_media))\n",
        "print(\"Média nacional e desvio padrão depois de tratar os nulos com a moda: \\n {}\\n \\n\" .format(enem_depois_moda))"
      ],
      "metadata": {
        "colab": {
          "base_uri": "https://localhost:8080/"
        },
        "id": "U3Lig6UIscpU",
        "outputId": "48aa52a4-be5f-43e2-c45e-7eaea7cce0d3"
      },
      "execution_count": null,
      "outputs": [
        {
          "output_type": "stream",
          "name": "stdout",
          "text": [
            "Média nacional e desvio padrão antes de tratar os nulos: \n",
            " mean    545.265264\n",
            "std      39.028818\n",
            "dtype: float64\n",
            "\n",
            "Média nacional e desvio padrão depois de tratar os nulos com a mediana: \n",
            " mean    544.571273\n",
            "std      28.890060\n",
            "dtype: float64\n",
            "\n",
            "Média nacional e desvio padrão depois de tratar os nulos com a média: \n",
            " mean    545.265264\n",
            "std      28.879942\n",
            "dtype: float64\n",
            "\n",
            "Média nacional e desvio padrão depois de tratar os nulos com a moda: \n",
            " mean    545.727867\n",
            "std      38.891689\n",
            "dtype: float64\n",
            " \n",
            "\n"
          ]
        }
      ]
    }
  ]
}